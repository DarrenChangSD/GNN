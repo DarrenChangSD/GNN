{
 "cells": [
  {
   "cell_type": "code",
   "execution_count": 1,
   "metadata": {},
   "outputs": [
    {
     "name": "stdout",
     "output_type": "stream",
     "text": [
      "Collecting tables\n",
      "\u001b[?25l  Downloading https://files.pythonhosted.org/packages/75/73/d941a2ad1427572a1c9689ece4a3ada627e47c8e8e809ff336d2745cac42/tables-3.5.1-cp27-cp27mu-manylinux1_x86_64.whl (4.3MB)\n",
      "\u001b[K    100% |████████████████████████████████| 4.3MB 6.4MB/s eta 0:00:01\n",
      "\u001b[?25hRequirement already satisfied: six>=1.9.0 in /cvmfs/sft.cern.ch/lcg/views/LCG_95a/x86_64-centos7-gcc7-opt/lib/python2.7/site-packages (from tables) (1.11.0)\n",
      "Requirement already satisfied: mock>=2.0 in /cvmfs/sft.cern.ch/lcg/views/LCG_95a/x86_64-centos7-gcc7-opt/lib/python2.7/site-packages (from tables) (2.0.0)\n",
      "Requirement already satisfied: numpy>=1.9.3 in /cvmfs/sft.cern.ch/lcg/views/LCG_95a/x86_64-centos7-gcc7-opt/lib/python2.7/site-packages (from tables) (1.14.2)\n",
      "Requirement already satisfied: numexpr>=2.6.2 in /cvmfs/sft.cern.ch/lcg/views/LCG_95a/x86_64-centos7-gcc7-opt/lib/python2.7/site-packages (from tables) (2.6.6)\n",
      "Requirement already satisfied: funcsigs>=1 in /cvmfs/sft.cern.ch/lcg/views/LCG_95a/x86_64-centos7-gcc7-opt/lib/python2.7/site-packages (from mock>=2.0->tables) (1.0.2)\n",
      "Requirement already satisfied: pbr>=0.11 in /cvmfs/sft.cern.ch/lcg/views/LCG_95a/x86_64-centos7-gcc7-opt/lib/python2.7/site-packages (from mock>=2.0->tables) (4.1.1)\n",
      "\u001b[31mtensorflow 1.12.0 requires backports.weakref>=1.0rc1, which is not installed.\u001b[0m\n",
      "\u001b[31mpy2neo 4.0.0 requires colorama, which is not installed.\u001b[0m\n",
      "\u001b[31mpy2neo 4.0.0 requires neo4j-driver>=1.6.0, which is not installed.\u001b[0m\n",
      "\u001b[31mkeras 2.2.0 has requirement keras_applications==1.0.2, but you'll have keras-applications 1.0.6 which is incompatible.\u001b[0m\n",
      "\u001b[31mkeras 2.2.0 has requirement keras_preprocessing==1.0.1, but you'll have keras-preprocessing 1.0.5 which is incompatible.\u001b[0m\n",
      "Installing collected packages: tables\n",
      "\u001b[33m  The scripts pt2to3, ptdump, ptrepack and pttree are installed in '/eos/user/w/woodson/.local/bin' which is not on PATH.\n",
      "  Consider adding this directory to PATH or, if you prefer to suppress this warning, use --no-warn-script-location.\u001b[0m\n",
      "Successfully installed tables-3.5.1\n",
      "\u001b[33mYou are using pip version 10.0.1, however version 19.1.1 is available.\n",
      "You should consider upgrading via the 'pip install --upgrade pip' command.\u001b[0m\n"
     ]
    }
   ],
   "source": [
    "# install tables (missing from SWAN stack)\n",
    "!pip install tables --user\n",
    "import sys\n",
    "sys.path.append('$CERNBOX_HOME/.local/lib/python2.7/site-packages')\n",
    "# restart notebook after this step (only needed once)!"
   ]
  },
  {
   "cell_type": "code",
   "execution_count": 1,
   "metadata": {},
   "outputs": [
    {
     "name": "stderr",
     "output_type": "stream",
     "text": [
      "Using TensorFlow backend.\n"
     ]
    }
   ],
   "source": [
    "import keras\n",
    "import numpy as np\n",
    "import tables\n",
    "from keras.models import Model\n",
    "from keras.layers import Input, Dense, BatchNormalization\n",
    "from keras.callbacks import ModelCheckpoint, EarlyStopping\n",
    "from sklearn.metrics import roc_curve, auc\n",
    "import matplotlib.pyplot as plt"
   ]
  },
  {
   "cell_type": "code",
   "execution_count": 2,
   "metadata": {},
   "outputs": [],
   "source": [
    "# 27 features\n",
    "features = ['fj_jetNTracks',\n",
    "            'fj_nSV',\n",
    "            'fj_tau0_trackEtaRel_0',\n",
    "            'fj_tau0_trackEtaRel_1',\n",
    "            'fj_tau0_trackEtaRel_2',\n",
    "            'fj_tau1_trackEtaRel_0',\n",
    "            'fj_tau1_trackEtaRel_1',\n",
    "            'fj_tau1_trackEtaRel_2',\n",
    "            'fj_tau_flightDistance2dSig_0',\n",
    "            'fj_tau_flightDistance2dSig_1',\n",
    "            'fj_tau_vertexDeltaR_0',\n",
    "            'fj_tau_vertexEnergyRatio_0',\n",
    "            'fj_tau_vertexEnergyRatio_1',\n",
    "            'fj_tau_vertexMass_0',\n",
    "            'fj_tau_vertexMass_1',\n",
    "            'fj_trackSip2dSigAboveBottom_0',\n",
    "            'fj_trackSip2dSigAboveBottom_1',\n",
    "            'fj_trackSip2dSigAboveCharm_0',\n",
    "            'fj_trackSipdSig_0',\n",
    "            'fj_trackSipdSig_0_0',\n",
    "            'fj_trackSipdSig_0_1',\n",
    "            'fj_trackSipdSig_1',\n",
    "            'fj_trackSipdSig_1_0',\n",
    "            'fj_trackSipdSig_1_1',\n",
    "            'fj_trackSipdSig_2',\n",
    "            'fj_trackSipdSig_3',\n",
    "            'fj_z_ratio']\n",
    "\n",
    "# spectators to define mass/pT window\n",
    "spectators = ['fj_sdmass',\n",
    "              'fj_pt']\n",
    "\n",
    "# 2 labels: QCD or Hbb\n",
    "labels = ['fj_isQCD*sample_isQCD',\n",
    "          'fj_isH*fj_isBB']\n",
    "\n",
    "nfeatures = len(features)\n",
    "nspectators = len(spectators)\n",
    "nlabels = len(labels)"
   ]
  },
  {
   "cell_type": "code",
   "execution_count": 3,
   "metadata": {},
   "outputs": [],
   "source": [
    "def get_features_labels(file_name, remove_mass_pt_window=True):\n",
    "    # load file\n",
    "    h5file = tables.open_file(file_name, 'r')\n",
    "    njets = getattr(h5file.root,features[0]).shape[0]\n",
    "\n",
    "    # allocate arrays\n",
    "    feature_array = np.zeros((njets,nfeatures))\n",
    "    spec_array = np.zeros((njets,nspectators))\n",
    "    label_array = np.zeros((njets,nlabels))\n",
    "\n",
    "    # load feature arrays\n",
    "    for (i, feat) in enumerate(features):\n",
    "        feature_array[:,i] = getattr(h5file.root,feat)[:]\n",
    "\n",
    "    # load spectator arrays\n",
    "    for (i, spec) in enumerate(spectators):\n",
    "        spec_array[:,i] = getattr(h5file.root,spec)[:]\n",
    "\n",
    "    # load labels arrays\n",
    "    for (i, label) in enumerate(labels):\n",
    "        prods = label.split('*')\n",
    "        prod0 = prods[0]\n",
    "        prod1 = prods[1]\n",
    "        fact0 = getattr(h5file.root,prod0)[:]\n",
    "        fact1 = getattr(h5file.root,prod1)[:]\n",
    "        label_array[:,i] = np.multiply(fact0,fact1)\n",
    "\n",
    "    # remove samples outside mass/pT window\n",
    "    if remove_mass_pt_window:\n",
    "        feature_array = feature_array[(spec_array[:,0] > 40) & (spec_array[:,0] < 200) & (spec_array[:,1] > 300) & (spec_array[:,1] < 2000)]\n",
    "        label_array = label_array[(spec_array[:,0] > 40) & (spec_array[:,0] < 200) & (spec_array[:,1] > 300) & (spec_array[:,1] < 2000)]\n",
    "\n",
    "    feature_array = feature_array[np.sum(label_array,axis=1)==1]\n",
    "    label_array = label_array[np.sum(label_array,axis=1)==1]\n",
    "\n",
    "    h5file.close()\n",
    "    return feature_array, label_array"
   ]
  },
  {
   "cell_type": "code",
   "execution_count": 4,
   "metadata": {},
   "outputs": [
    {
     "name": "stdout",
     "output_type": "stream",
     "text": [
      "190517 20:31:53 368 secgsi_InitProxy: cannot access private key file: /eos/user/w/woodson/.globus/userkey.pem\n",
      "[1.403GB/1.403GB][100%][==================================================][102.6MB/s]  \n"
     ]
    }
   ],
   "source": [
    "# copy training file if it doesn't exist\n",
    "import os.path\n",
    "if not os.path.isfile('ntuple_merged_10.h5'): \n",
    "    !xrdcp root://eospublic.cern.ch//eos/opendata/cms/datascience/HiggsToBBNTuple_HiggsToBB_QCD_RunII_13TeV_MC/train/ntuple_merged_10.h5 .\n",
    "\n",
    "# load training file\n",
    "feature_array, label_array = get_features_labels('ntuple_merged_10.h5', remove_mass_pt_window=False)"
   ]
  },
  {
   "cell_type": "code",
   "execution_count": 5,
   "metadata": {},
   "outputs": [
    {
     "name": "stdout",
     "output_type": "stream",
     "text": [
      "_________________________________________________________________\n",
      "Layer (type)                 Output Shape              Param #   \n",
      "=================================================================\n",
      "input (InputLayer)           (None, 27)                0         \n",
      "_________________________________________________________________\n",
      "bn_1 (BatchNormalization)    (None, 27)                108       \n",
      "_________________________________________________________________\n",
      "dense_1 (Dense)              (None, 64)                1792      \n",
      "_________________________________________________________________\n",
      "dense_2 (Dense)              (None, 32)                2080      \n",
      "_________________________________________________________________\n",
      "dense_3 (Dense)              (None, 32)                1056      \n",
      "_________________________________________________________________\n",
      "output (Dense)               (None, 2)                 66        \n",
      "=================================================================\n",
      "Total params: 5,102\n",
      "Trainable params: 5,048\n",
      "Non-trainable params: 54\n",
      "_________________________________________________________________\n",
      "None\n"
     ]
    }
   ],
   "source": [
    "# define dense keras model\n",
    "inputs = Input(shape=(nfeatures,), name = 'input')  \n",
    "x = BatchNormalization(name='bn_1')(inputs)\n",
    "x = Dense(64, name = 'dense_1', activation='relu')(x)\n",
    "x = Dense(32, name = 'dense_2', activation='relu')(x)\n",
    "x = Dense(32, name = 'dense_3', activation='relu')(x)\n",
    "outputs = Dense(nlabels, name = 'output', activation='softmax')(x)\n",
    "keras_model = Model(inputs=inputs, outputs=outputs)\n",
    "keras_model.compile(optimizer='adam', loss='categorical_crossentropy', metrics=['accuracy'])\n",
    "print(keras_model.summary())"
   ]
  },
  {
   "cell_type": "code",
   "execution_count": 6,
   "metadata": {},
   "outputs": [
    {
     "name": "stdout",
     "output_type": "stream",
     "text": [
      "Train on 150255 samples, validate on 37564 samples\n",
      "Epoch 1/100\n",
      "150255/150255 [==============================] - 2s 15us/step - loss: 0.2939 - acc: 0.8945 - val_loss: 0.2455 - val_acc: 0.9052\n",
      "Epoch 2/100\n",
      "150255/150255 [==============================] - 2s 12us/step - loss: 0.2390 - acc: 0.9084 - val_loss: 0.2395 - val_acc: 0.9075\n",
      "Epoch 3/100\n",
      "150255/150255 [==============================] - 2s 12us/step - loss: 0.2339 - acc: 0.9102 - val_loss: 0.2364 - val_acc: 0.9087\n",
      "Epoch 4/100\n",
      "150255/150255 [==============================] - 2s 12us/step - loss: 0.2309 - acc: 0.9112 - val_loss: 0.2344 - val_acc: 0.9092\n",
      "Epoch 5/100\n",
      "150255/150255 [==============================] - 2s 12us/step - loss: 0.2289 - acc: 0.9118 - val_loss: 0.2329 - val_acc: 0.9092\n",
      "Epoch 6/100\n",
      "150255/150255 [==============================] - 2s 12us/step - loss: 0.2273 - acc: 0.9124 - val_loss: 0.2318 - val_acc: 0.9095\n",
      "Epoch 7/100\n",
      "150255/150255 [==============================] - 2s 12us/step - loss: 0.2260 - acc: 0.9132 - val_loss: 0.2309 - val_acc: 0.9099\n",
      "Epoch 8/100\n",
      "150255/150255 [==============================] - 2s 12us/step - loss: 0.2249 - acc: 0.9137 - val_loss: 0.2300 - val_acc: 0.9099\n",
      "Epoch 9/100\n",
      "150255/150255 [==============================] - 2s 12us/step - loss: 0.2239 - acc: 0.9141 - val_loss: 0.2293 - val_acc: 0.9103\n",
      "Epoch 10/100\n",
      "150255/150255 [==============================] - 2s 12us/step - loss: 0.2230 - acc: 0.9142 - val_loss: 0.2288 - val_acc: 0.9105\n",
      "Epoch 11/100\n",
      "150255/150255 [==============================] - 2s 11us/step - loss: 0.2222 - acc: 0.9145 - val_loss: 0.2282 - val_acc: 0.9110\n",
      "Epoch 12/100\n",
      "150255/150255 [==============================] - 2s 11us/step - loss: 0.2214 - acc: 0.9148 - val_loss: 0.2276 - val_acc: 0.9110\n",
      "Epoch 13/100\n",
      "150255/150255 [==============================] - 2s 13us/step - loss: 0.2207 - acc: 0.9154 - val_loss: 0.2274 - val_acc: 0.9112\n",
      "Epoch 14/100\n",
      "150255/150255 [==============================] - 2s 12us/step - loss: 0.2201 - acc: 0.9155 - val_loss: 0.2271 - val_acc: 0.9113\n",
      "Epoch 15/100\n",
      "150255/150255 [==============================] - 2s 12us/step - loss: 0.2195 - acc: 0.9157 - val_loss: 0.2268 - val_acc: 0.9115\n",
      "Epoch 16/100\n",
      "150255/150255 [==============================] - 2s 13us/step - loss: 0.2190 - acc: 0.9162 - val_loss: 0.2265 - val_acc: 0.9119\n",
      "Epoch 17/100\n",
      "150255/150255 [==============================] - 2s 12us/step - loss: 0.2185 - acc: 0.9163 - val_loss: 0.2264 - val_acc: 0.9121\n",
      "Epoch 18/100\n",
      "150255/150255 [==============================] - 2s 12us/step - loss: 0.2180 - acc: 0.9167 - val_loss: 0.2264 - val_acc: 0.9120\n",
      "Epoch 19/100\n",
      "150255/150255 [==============================] - 2s 12us/step - loss: 0.2175 - acc: 0.9168 - val_loss: 0.2263 - val_acc: 0.9120\n",
      "Epoch 20/100\n",
      "150255/150255 [==============================] - 2s 12us/step - loss: 0.2171 - acc: 0.9171 - val_loss: 0.2263 - val_acc: 0.9120\n",
      "Epoch 21/100\n",
      "150255/150255 [==============================] - 2s 12us/step - loss: 0.2167 - acc: 0.9173 - val_loss: 0.2264 - val_acc: 0.9119\n",
      "Epoch 22/100\n",
      "150255/150255 [==============================] - 2s 10us/step - loss: 0.2163 - acc: 0.9173 - val_loss: 0.2264 - val_acc: 0.9121\n",
      "Epoch 23/100\n",
      "150255/150255 [==============================] - 2s 11us/step - loss: 0.2159 - acc: 0.9174 - val_loss: 0.2264 - val_acc: 0.9120\n",
      "Epoch 24/100\n",
      "150255/150255 [==============================] - 2s 11us/step - loss: 0.2156 - acc: 0.9175 - val_loss: 0.2264 - val_acc: 0.9119\n",
      "Epoch 25/100\n",
      "150255/150255 [==============================] - 2s 11us/step - loss: 0.2153 - acc: 0.9175 - val_loss: 0.2263 - val_acc: 0.9120\n",
      "Epoch 26/100\n",
      "150255/150255 [==============================] - 2s 12us/step - loss: 0.2149 - acc: 0.9176 - val_loss: 0.2263 - val_acc: 0.9118\n",
      "Epoch 27/100\n",
      "150255/150255 [==============================] - 2s 12us/step - loss: 0.2147 - acc: 0.9178 - val_loss: 0.2265 - val_acc: 0.9118\n",
      "Epoch 28/100\n",
      "150255/150255 [==============================] - 2s 12us/step - loss: 0.2144 - acc: 0.9180 - val_loss: 0.2263 - val_acc: 0.9117\n",
      "Epoch 29/100\n",
      "150255/150255 [==============================] - 2s 12us/step - loss: 0.2141 - acc: 0.9181 - val_loss: 0.2263 - val_acc: 0.9117\n",
      "Epoch 30/100\n",
      "150255/150255 [==============================] - 2s 12us/step - loss: 0.2139 - acc: 0.9181 - val_loss: 0.2263 - val_acc: 0.9116\n"
     ]
    },
    {
     "data": {
      "text/plain": [
       "<keras.callbacks.History at 0x7fa5e0ec5c50>"
      ]
     },
     "execution_count": 6,
     "metadata": {},
     "output_type": "execute_result"
    }
   ],
   "source": [
    "# define callbacks\n",
    "early_stopping = EarlyStopping(monitor='val_loss', patience=10)\n",
    "model_checkpoint = ModelCheckpoint('keras_model_best.h5', monitor='val_loss', save_best_only=True)\n",
    "callbacks = [early_stopping, model_checkpoint]\n",
    "\n",
    "# fit keras model\n",
    "keras_model.fit(feature_array, label_array, batch_size=1024, \n",
    "                epochs=100, validation_split=0.2, shuffle=False,\n",
    "                callbacks = callbacks)"
   ]
  },
  {
   "cell_type": "code",
   "execution_count": 7,
   "metadata": {},
   "outputs": [
    {
     "name": "stdout",
     "output_type": "stream",
     "text": [
      "190517 20:33:37 489 secgsi_InitProxy: cannot access private key file: /eos/user/w/woodson/.globus/userkey.pem\n",
      "[1.403GB/1.403GB][100%][==================================================][102.6MB/s]  \n"
     ]
    }
   ],
   "source": [
    "# copy testing file if it doesn't exist\n",
    "import os.path\n",
    "if not os.path.isfile('ntuple_merged_0.h5'): \n",
    "    !xrdcp root://eospublic.cern.ch//eos/opendata/cms/datascience/HiggsToBBNTuple_HiggsToBB_QCD_RunII_13TeV_MC/test/ntuple_merged_0.h5 .\n",
    "        \n",
    "# load testing file\n",
    "feature_array_test, label_array_test = get_features_labels('ntuple_merged_0.h5')"
   ]
  },
  {
   "cell_type": "code",
   "execution_count": 8,
   "metadata": {},
   "outputs": [
    {
     "data": {
      "image/png": "[encoded data removed]",
      "text/plain": [
       "<Figure size 432x288 with 1 Axes>"
      ]
     },
     "metadata": {},
     "output_type": "display_data"
    }
   ],
   "source": [
    "# reload best weights\n",
    "keras_model.load_weights('keras_model_best.h5')\n",
    "\n",
    "# run model inference on test data set\n",
    "predict_array_test = keras_model.predict(feature_array_test)\n",
    "\n",
    "# create ROC curve\n",
    "fpr, tpr, threshold = roc_curve(label_array_test[:,1], predict_array_test[:,1])\n",
    "    \n",
    "# plot ROC curve\n",
    "plt.figure()\n",
    "plt.plot(tpr, fpr, lw=2.5, label=\"AUC = {:.1f}%\".format(auc(fpr,tpr)*100))\n",
    "plt.xlabel(r'True positive rate')\n",
    "plt.ylabel(r'False positive rate')\n",
    "plt.semilogy()\n",
    "plt.ylim(0.001,1)\n",
    "plt.xlim(0,1)\n",
    "plt.grid(True)\n",
    "plt.legend(loc='upper left')\n",
    "plt.tight_layout()\n",
    "plt.savefig('ROC.png')\n",
    "plt.savefig('ROC.pdf')"
   ]
  },
  {
   "cell_type": "code",
   "execution_count": null,
   "metadata": {},
   "outputs": [],
   "source": []
  }
 ],
 "metadata": {
  "kernelspec": {
   "display_name": "Python 2",
   "language": "python",
   "name": "python2"
  },
  "language_info": {
   "codemirror_mode": {
    "name": "ipython",
    "version": 2
   },
   "file_extension": ".py",
   "mimetype": "text/x-python",
   "name": "python",
   "nbconvert_exporter": "python",
   "pygments_lexer": "ipython2",
   "version": "2.7.15"
  }
 },
 "nbformat": 4,
 "nbformat_minor": 2
}
